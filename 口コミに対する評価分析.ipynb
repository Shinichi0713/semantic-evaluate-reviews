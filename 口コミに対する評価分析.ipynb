{
  "nbformat": 4,
  "nbformat_minor": 0,
  "metadata": {
    "colab": {
      "provenance": []
    },
    "kernelspec": {
      "name": "python3",
      "display_name": "Python 3"
    },
    "language_info": {
      "name": "python"
    }
  },
  "cells": [
    {
      "cell_type": "markdown",
      "source": [
        "必要なライブラリのインストール"
      ],
      "metadata": {
        "id": "LB6hfvf9Siz7"
      }
    },
    {
      "cell_type": "code",
      "source": [
        "!pip install sentence_transformers\n",
        "!pip install fugashi\n",
        "!pip install unidic_lite"
      ],
      "metadata": {
        "colab": {
          "base_uri": "https://localhost:8080/"
        },
        "id": "0mWtvmZ2RAFz",
        "outputId": "96ce517a-18ee-4fc0-e7ef-81e4f443ca57"
      },
      "execution_count": null,
      "outputs": [
        {
          "output_type": "stream",
          "name": "stdout",
          "text": [
            "Collecting sentence_transformers\n",
            "  Downloading sentence_transformers-2.7.0-py3-none-any.whl (171 kB)\n",
            "\u001b[2K     \u001b[90m━━━━━━━━━━━━━━━━━━━━━━━━━━━━━━━━━━━━━━━━\u001b[0m \u001b[32m171.5/171.5 kB\u001b[0m \u001b[31m3.5 MB/s\u001b[0m eta \u001b[36m0:00:00\u001b[0m\n",
            "\u001b[?25hRequirement already satisfied: transformers<5.0.0,>=4.34.0 in /usr/local/lib/python3.10/dist-packages (from sentence_transformers) (4.40.2)\n",
            "Requirement already satisfied: tqdm in /usr/local/lib/python3.10/dist-packages (from sentence_transformers) (4.66.4)\n",
            "Requirement already satisfied: torch>=1.11.0 in /usr/local/lib/python3.10/dist-packages (from sentence_transformers) (2.2.1+cu121)\n",
            "Requirement already satisfied: numpy in /usr/local/lib/python3.10/dist-packages (from sentence_transformers) (1.25.2)\n",
            "Requirement already satisfied: scikit-learn in /usr/local/lib/python3.10/dist-packages (from sentence_transformers) (1.2.2)\n",
            "Requirement already satisfied: scipy in /usr/local/lib/python3.10/dist-packages (from sentence_transformers) (1.11.4)\n",
            "Requirement already satisfied: huggingface-hub>=0.15.1 in /usr/local/lib/python3.10/dist-packages (from sentence_transformers) (0.20.3)\n",
            "Requirement already satisfied: Pillow in /usr/local/lib/python3.10/dist-packages (from sentence_transformers) (9.4.0)\n",
            "Requirement already satisfied: filelock in /usr/local/lib/python3.10/dist-packages (from huggingface-hub>=0.15.1->sentence_transformers) (3.14.0)\n",
            "Requirement already satisfied: fsspec>=2023.5.0 in /usr/local/lib/python3.10/dist-packages (from huggingface-hub>=0.15.1->sentence_transformers) (2023.6.0)\n",
            "Requirement already satisfied: requests in /usr/local/lib/python3.10/dist-packages (from huggingface-hub>=0.15.1->sentence_transformers) (2.31.0)\n",
            "Requirement already satisfied: pyyaml>=5.1 in /usr/local/lib/python3.10/dist-packages (from huggingface-hub>=0.15.1->sentence_transformers) (6.0.1)\n",
            "Requirement already satisfied: typing-extensions>=3.7.4.3 in /usr/local/lib/python3.10/dist-packages (from huggingface-hub>=0.15.1->sentence_transformers) (4.11.0)\n",
            "Requirement already satisfied: packaging>=20.9 in /usr/local/lib/python3.10/dist-packages (from huggingface-hub>=0.15.1->sentence_transformers) (24.0)\n",
            "Requirement already satisfied: sympy in /usr/local/lib/python3.10/dist-packages (from torch>=1.11.0->sentence_transformers) (1.12)\n",
            "Requirement already satisfied: networkx in /usr/local/lib/python3.10/dist-packages (from torch>=1.11.0->sentence_transformers) (3.3)\n",
            "Requirement already satisfied: jinja2 in /usr/local/lib/python3.10/dist-packages (from torch>=1.11.0->sentence_transformers) (3.1.4)\n",
            "Collecting nvidia-cuda-nvrtc-cu12==12.1.105 (from torch>=1.11.0->sentence_transformers)\n",
            "  Using cached nvidia_cuda_nvrtc_cu12-12.1.105-py3-none-manylinux1_x86_64.whl (23.7 MB)\n",
            "Collecting nvidia-cuda-runtime-cu12==12.1.105 (from torch>=1.11.0->sentence_transformers)\n",
            "  Using cached nvidia_cuda_runtime_cu12-12.1.105-py3-none-manylinux1_x86_64.whl (823 kB)\n",
            "Collecting nvidia-cuda-cupti-cu12==12.1.105 (from torch>=1.11.0->sentence_transformers)\n",
            "  Using cached nvidia_cuda_cupti_cu12-12.1.105-py3-none-manylinux1_x86_64.whl (14.1 MB)\n",
            "Collecting nvidia-cudnn-cu12==8.9.2.26 (from torch>=1.11.0->sentence_transformers)\n",
            "  Using cached nvidia_cudnn_cu12-8.9.2.26-py3-none-manylinux1_x86_64.whl (731.7 MB)\n",
            "Collecting nvidia-cublas-cu12==12.1.3.1 (from torch>=1.11.0->sentence_transformers)\n",
            "  Using cached nvidia_cublas_cu12-12.1.3.1-py3-none-manylinux1_x86_64.whl (410.6 MB)\n",
            "Collecting nvidia-cufft-cu12==11.0.2.54 (from torch>=1.11.0->sentence_transformers)\n",
            "  Using cached nvidia_cufft_cu12-11.0.2.54-py3-none-manylinux1_x86_64.whl (121.6 MB)\n",
            "Collecting nvidia-curand-cu12==10.3.2.106 (from torch>=1.11.0->sentence_transformers)\n",
            "  Using cached nvidia_curand_cu12-10.3.2.106-py3-none-manylinux1_x86_64.whl (56.5 MB)\n",
            "Collecting nvidia-cusolver-cu12==11.4.5.107 (from torch>=1.11.0->sentence_transformers)\n",
            "  Using cached nvidia_cusolver_cu12-11.4.5.107-py3-none-manylinux1_x86_64.whl (124.2 MB)\n",
            "Collecting nvidia-cusparse-cu12==12.1.0.106 (from torch>=1.11.0->sentence_transformers)\n",
            "  Using cached nvidia_cusparse_cu12-12.1.0.106-py3-none-manylinux1_x86_64.whl (196.0 MB)\n",
            "Collecting nvidia-nccl-cu12==2.19.3 (from torch>=1.11.0->sentence_transformers)\n",
            "  Using cached nvidia_nccl_cu12-2.19.3-py3-none-manylinux1_x86_64.whl (166.0 MB)\n",
            "Collecting nvidia-nvtx-cu12==12.1.105 (from torch>=1.11.0->sentence_transformers)\n",
            "  Using cached nvidia_nvtx_cu12-12.1.105-py3-none-manylinux1_x86_64.whl (99 kB)\n",
            "Requirement already satisfied: triton==2.2.0 in /usr/local/lib/python3.10/dist-packages (from torch>=1.11.0->sentence_transformers) (2.2.0)\n",
            "Collecting nvidia-nvjitlink-cu12 (from nvidia-cusolver-cu12==11.4.5.107->torch>=1.11.0->sentence_transformers)\n",
            "  Using cached nvidia_nvjitlink_cu12-12.4.127-py3-none-manylinux2014_x86_64.whl (21.1 MB)\n",
            "Requirement already satisfied: regex!=2019.12.17 in /usr/local/lib/python3.10/dist-packages (from transformers<5.0.0,>=4.34.0->sentence_transformers) (2023.12.25)\n",
            "Requirement already satisfied: tokenizers<0.20,>=0.19 in /usr/local/lib/python3.10/dist-packages (from transformers<5.0.0,>=4.34.0->sentence_transformers) (0.19.1)\n",
            "Requirement already satisfied: safetensors>=0.4.1 in /usr/local/lib/python3.10/dist-packages (from transformers<5.0.0,>=4.34.0->sentence_transformers) (0.4.3)\n",
            "Requirement already satisfied: joblib>=1.1.1 in /usr/local/lib/python3.10/dist-packages (from scikit-learn->sentence_transformers) (1.4.2)\n",
            "Requirement already satisfied: threadpoolctl>=2.0.0 in /usr/local/lib/python3.10/dist-packages (from scikit-learn->sentence_transformers) (3.5.0)\n",
            "Requirement already satisfied: MarkupSafe>=2.0 in /usr/local/lib/python3.10/dist-packages (from jinja2->torch>=1.11.0->sentence_transformers) (2.1.5)\n",
            "Requirement already satisfied: charset-normalizer<4,>=2 in /usr/local/lib/python3.10/dist-packages (from requests->huggingface-hub>=0.15.1->sentence_transformers) (3.3.2)\n",
            "Requirement already satisfied: idna<4,>=2.5 in /usr/local/lib/python3.10/dist-packages (from requests->huggingface-hub>=0.15.1->sentence_transformers) (3.7)\n",
            "Requirement already satisfied: urllib3<3,>=1.21.1 in /usr/local/lib/python3.10/dist-packages (from requests->huggingface-hub>=0.15.1->sentence_transformers) (2.0.7)\n",
            "Requirement already satisfied: certifi>=2017.4.17 in /usr/local/lib/python3.10/dist-packages (from requests->huggingface-hub>=0.15.1->sentence_transformers) (2024.2.2)\n",
            "Requirement already satisfied: mpmath>=0.19 in /usr/local/lib/python3.10/dist-packages (from sympy->torch>=1.11.0->sentence_transformers) (1.3.0)\n",
            "Installing collected packages: nvidia-nvtx-cu12, nvidia-nvjitlink-cu12, nvidia-nccl-cu12, nvidia-curand-cu12, nvidia-cufft-cu12, nvidia-cuda-runtime-cu12, nvidia-cuda-nvrtc-cu12, nvidia-cuda-cupti-cu12, nvidia-cublas-cu12, nvidia-cusparse-cu12, nvidia-cudnn-cu12, nvidia-cusolver-cu12, sentence_transformers\n",
            "Successfully installed nvidia-cublas-cu12-12.1.3.1 nvidia-cuda-cupti-cu12-12.1.105 nvidia-cuda-nvrtc-cu12-12.1.105 nvidia-cuda-runtime-cu12-12.1.105 nvidia-cudnn-cu12-8.9.2.26 nvidia-cufft-cu12-11.0.2.54 nvidia-curand-cu12-10.3.2.106 nvidia-cusolver-cu12-11.4.5.107 nvidia-cusparse-cu12-12.1.0.106 nvidia-nccl-cu12-2.19.3 nvidia-nvjitlink-cu12-12.4.127 nvidia-nvtx-cu12-12.1.105 sentence_transformers-2.7.0\n"
          ]
        }
      ]
    },
    {
      "cell_type": "markdown",
      "source": [
        "GLuCoSE-base-jaモデルのDownloadとモデルインスタンス化<br>\n",
        "モデルはLukaベースモデル。<br>\n",
        "複数タスクでの学習を行っているため、汎化性の高さに期待できる"
      ],
      "metadata": {
        "id": "S_I7-QNySnnK"
      }
    },
    {
      "cell_type": "code",
      "execution_count": 126,
      "metadata": {
        "id": "K3qyVHq8Q6aa"
      },
      "outputs": [],
      "source": [
        "from sentence_transformers import SentenceTransformer\n",
        "import csv\n",
        "from sklearn.metrics.pairwise import cosine_similarity\n",
        "\n",
        "# モデルダウンロード\n",
        "model = SentenceTransformer('pkshatech/GLuCoSE-base-ja')"
      ]
    },
    {
      "cell_type": "markdown",
      "source": [
        "口コミのレビューの有意性を評価するため、以下を指標とする<br>\n",
        "1.理論的/理論的でも感情的でもない/感情的<br>\n",
        "2.製品に関係ある内容か/関係ない内容か<br>\n",
        "3.情報は詳細か/詳細ではないか"
      ],
      "metadata": {
        "id": "KFp7mDbIVLZa"
      }
    },
    {
      "cell_type": "markdown",
      "source": [
        "まずは、レビューの内容と、上記観点での評価がされているかについて評価する"
      ],
      "metadata": {
        "id": "ApD3fMYoX1OK"
      }
    },
    {
      "cell_type": "markdown",
      "source": [
        "尚、検証対象とする口コミレビューの以下より取得する<br>\n",
        "https://www.amazon.co.jp/%E6%B7%B1%E5%B1%A4%E5%AD%A6%E7%BF%92-%E6%94%B9%E8%A8%82%E7%AC%AC%EF%BC%92%E7%89%88-%E6%A9%9F%E6%A2%B0%E5%AD%A6%E7%BF%92%E3%83%97%E3%83%AD%E3%83%95%E3%82%A7%E3%83%83%E3%82%B7%E3%83%A7%E3%83%8A%E3%83%AB%E3%82%B7%E3%83%AA%E3%83%BC%E3%82%BA-%E5%B2%A1%E8%B0%B7%E8%B2%B4%E4%B9%8B-ebook/product-reviews/B0BC8JRBPG/ref=cm_cr_dp_d_show_all_btm?ie=UTF8&reviewerType=all_reviews"
      ],
      "metadata": {
        "id": "oPXl3fv0flPp"
      }
    },
    {
      "cell_type": "code",
      "source": [
        "# 判断基準に基づいてsentence-transformerで評価\n",
        "def evaluate_viewpoint(model, rewiew_target, viewpoints_eval):\n",
        "  # レビュー分散表現\n",
        "  embeddings_review = model.encode([rewiew_target])\n",
        "\n",
        "  # 各評価軸に沿って類似性評価\n",
        "  datas_eval = []\n",
        "  for viewpoint_eval in viewpoints_eval:\n",
        "    dict_eval = {}\n",
        "    # 評価軸の分散表現\n",
        "    embeddings_viewpoint = model.encode(viewpoint_eval)\n",
        "    # 評価軸ごとの類似度評価\n",
        "    for i in range(len(embeddings_viewpoint)):\n",
        "      similarity = cosine_similarity(\n",
        "          embeddings_review[0].reshape(1, -1),\n",
        "          embeddings_viewpoint[i].reshape(1, -1)\n",
        "      )[0][0]\n",
        "      dict_eval[viewpoint_eval[i]] = similarity\n",
        "    datas_eval.append(dict_eval)\n",
        "  return datas_eval\n",
        "\n",
        "\n",
        "viewpoints_eval = [\n",
        "    [\"理論的\",\"理論的でも感情的でもない\",\"感情的\"],\n",
        "    [\"製品に関係ある内容\",\"製品に関係ある程度関係ある内容\",\"製品には関係ない内容\"],\n",
        "    [\"レビューは詳細な情報といえる\",\"情報はある程度詳しい\",\"情報は詳細とはいえない\"],\n",
        "    ]\n"
      ],
      "metadata": {
        "id": "gZq0kqDTQ7Z0"
      },
      "execution_count": null,
      "outputs": []
    },
    {
      "cell_type": "code",
      "source": [
        "rewiew_target = \"\"\"\n",
        "届いたばかりで読めていないが、新旧を比較すると旧165ページに対して新366ページもある。\n",
        "RNN,GAN,トランスフォーマー、Grad-CAMなどがあり、かなり内容がパワーアップしている\n",
        "\n",
        "追記)一通り目を通した。深層学習の概要を知るには良いが、後半の最近の項目についてはてんこ盛りのため、各項目の説明が少なめ。\n",
        "AttentionやTransformerについては、このページ数ではよくわからない。\n",
        "この本だけではなく、興味分野については別のpython演習付きの本と併用すべきと思う\n",
        "\"\"\"\n",
        "datas_eval = evaluate_viewpoint(model, rewiew_target, viewpoints_eval)\n",
        "for data_eval in datas_eval:\n",
        "  print(data_eval)"
      ],
      "metadata": {
        "colab": {
          "base_uri": "https://localhost:8080/"
        },
        "id": "0URpO_PNcf1j",
        "outputId": "652b67ae-2160-4016-df29-ebcc5fbc8084"
      },
      "execution_count": null,
      "outputs": [
        {
          "output_type": "stream",
          "name": "stdout",
          "text": [
            "{'理論的': 0.18554756, '理論的でも感情的でもない': 0.12909272, '感情的': -0.048688628}\n",
            "{'製品に関係ある内容': 0.25244862, '製品に関係ある程度関係ある内容': 0.23771532, '製品には関係ない内容': 0.226212}\n",
            "{'レビューは詳細な情報といえる': 0.33113933, '情報はある程度詳しい': 0.2602335, '情報は詳細とはいえない': 0.3143786}\n"
          ]
        }
      ]
    },
    {
      "cell_type": "code",
      "source": [
        "rewiew_target = \"\"\"\n",
        "目次を見てAttentionやGNNについての章が設けられていたので買ってみましたが、数式に慣れた専門学科の人でないとこの本は良く分からないのではないかと思います。\n",
        "第1版に比べ大幅ページ増で大幅パワーアップなのは間違いないと思いますが、少なくとも自分には難しくて良く分からないので星2つにします。\n",
        "ところで、今回の改訂では｢説明｣に力点が置かれていて、深層学習で得た結果の｢説明｣に関する章も新たに設けられていますが、深層学習で得た結果の｢説明｣を論じるのならば、(Attentionは実際にそこを見て(｢注意｣して)いるので)先ずはAttentionの可視化の説明から始めてもらった方が良さそうな気もしますが、この本を見たところでは載っていないのが解せません。\n",
        "\"\"\"\n",
        "datas_eval = evaluate_viewpoint(model, rewiew_target, viewpoints_eval)\n",
        "for data_eval in datas_eval:\n",
        "  print(data_eval)"
      ],
      "metadata": {
        "colab": {
          "base_uri": "https://localhost:8080/"
        },
        "id": "U_IqRPXhd9us",
        "outputId": "03ba19b4-ddc1-4df4-ef79-6b5084fab71c"
      },
      "execution_count": null,
      "outputs": [
        {
          "output_type": "stream",
          "name": "stdout",
          "text": [
            "{'理論的': 0.25963637, '理論的でも感情的でもない': 0.20709169, '感情的': -0.012328569}\n",
            "{'製品に関係ある内容': 0.26139003, '製品に関係ある程度関係ある内容': 0.2422016, '製品には関係ない内容': 0.226562}\n",
            "{'レビューは詳細な情報といえる': 0.37256473, '情報はある程度詳しい': 0.28369737, '情報は詳細とはいえない': 0.35253525}\n"
          ]
        }
      ]
    },
    {
      "cell_type": "code",
      "source": [
        "rewiew_target = \"\"\"\n",
        "この本は内容は全くわからないし、購入するんではなかった\n",
        "\"\"\"\n",
        "datas_eval = evaluate_viewpoint(model, rewiew_target, viewpoints_eval)\n",
        "for data_eval in datas_eval:\n",
        "  print(data_eval)"
      ],
      "metadata": {
        "colab": {
          "base_uri": "https://localhost:8080/"
        },
        "id": "vZkhc7x2eIXS",
        "outputId": "76b94300-85eb-454f-8177-e7992f4cc81e"
      },
      "execution_count": null,
      "outputs": [
        {
          "output_type": "stream",
          "name": "stdout",
          "text": [
            "{'理論的': 0.1053045, '理論的でも感情的でもない': 0.18056846, '感情的': -0.019871587}\n",
            "{'製品に関係ある内容': 0.14503391, '製品に関係ある程度関係ある内容': 0.17696697, '製品には関係ない内容': 0.35434633}\n",
            "{'レビューは詳細な情報といえる': 0.24457622, '情報はある程度詳しい': 0.16738737, '情報は詳細とはいえない': 0.3945852}\n"
          ]
        }
      ]
    },
    {
      "cell_type": "markdown",
      "source": [
        "何点かレビューの文章を変えて評価した結果、[\"理論的\",\"理論的でも感情的でもない\",\"感情的\"]のように３段階を示す評価軸とするよりは、一つの重要な軸のみで評価する方が良いと考えられる。<br>\n",
        "\n",
        "他方、通常は最終出力はLinear層による分類器を用いるべき感情分析だが、検索による比較であっても、相対的な評価はできていると考える。"
      ],
      "metadata": {
        "id": "L6ZHGAVEeoWZ"
      }
    },
    {
      "cell_type": "markdown",
      "source": [
        "amazon商品のレビューより取得したテキストデータを\"reviews.csv\"にまとめた。<br>\n",
        "テキストデータを読取りデータの判断基準の評価を行う。"
      ],
      "metadata": {
        "id": "5rWzCEPnz643"
      }
    },
    {
      "cell_type": "code",
      "source": [
        "# reviewデータを読み取る\n",
        "reviews_amazon = []\n",
        "with open('/content/reviews.csv', 'r', encoding=\"cp932\") as f:\n",
        "    reader = csv.reader(f)\n",
        "    for row in reader:\n",
        "        reviews_amazon.extend(row)"
      ],
      "metadata": {
        "id": "xJUQp0nMeTgT"
      },
      "execution_count": null,
      "outputs": []
    },
    {
      "cell_type": "code",
      "source": [
        "# 先ほどの関数を改修\n",
        "viewpoints_eval = [\n",
        "    \"理論的\",\n",
        "    \"製品に関係ある内容\",\n",
        "    \"レビューは詳細な情報といえる\",\n",
        "    ]\n",
        "# 判断基準に基づいてsentence-transformerで評価\n",
        "def evaluate_viewpoint(model, rewiew_target, viewpoints_eval):\n",
        "  # レビュー分散表現\n",
        "  embeddings_review = model.encode([rewiew_target])\n",
        "\n",
        "  # 各評価軸に沿って類似性評価\n",
        "  datas_eval = []\n",
        "  dict_eval = {}\n",
        "  # 評価軸の分散表現\n",
        "  embeddings_viewpoint = model.encode(viewpoints_eval)\n",
        "  # 評価軸ごとの類似度評価\n",
        "  for i in range(len(embeddings_viewpoint)):\n",
        "    similarity = cosine_similarity(\n",
        "        embeddings_review[0].reshape(1, -1),\n",
        "        embeddings_viewpoint[i].reshape(1, -1)\n",
        "    )[0][0]\n",
        "    dict_eval[viewpoints_eval[i]] = similarity\n",
        "  datas_eval.append(dict_eval)\n",
        "  return datas_eval"
      ],
      "metadata": {
        "id": "GjtYMmoh0d93"
      },
      "execution_count": null,
      "outputs": []
    },
    {
      "cell_type": "code",
      "source": [
        "# 各レビューを評価軸で評価\n",
        "datas_eval = []\n",
        "for review_amazon in reviews_amazon:\n",
        "  data_eval = evaluate_viewpoint(model, review_amazon, viewpoints_eval)\n",
        "  data_eval[0]['本文'] = review_amazon\n",
        "  datas_eval.extend(data_eval)"
      ],
      "metadata": {
        "id": "n1zO0qMP1Cb-"
      },
      "execution_count": null,
      "outputs": []
    },
    {
      "cell_type": "markdown",
      "source": [
        "続いてとってきた評価データから、有意となる評価軸の平均、分散を算出して、データのスクリーニングを行う"
      ],
      "metadata": {
        "id": "J6rH97Hu3oZW"
      }
    },
    {
      "cell_type": "code",
      "source": [
        "import pandas as pd\n",
        "# データフレーム化\n",
        "df = pd.DataFrame(datas_eval)\n",
        "\n",
        "# 統計量を算出\n",
        "for viewpoint_eval in viewpoints_eval:\n",
        "  print(df[viewpoint_eval].describe())"
      ],
      "metadata": {
        "colab": {
          "base_uri": "https://localhost:8080/"
        },
        "id": "S00hKTa_1FNG",
        "outputId": "78451ed4-0c32-430d-f971-284e67386b7b"
      },
      "execution_count": null,
      "outputs": [
        {
          "output_type": "stream",
          "name": "stdout",
          "text": [
            "count    14.000000\n",
            "mean      0.358969\n",
            "std       0.100326\n",
            "min       0.185548\n",
            "25%       0.272959\n",
            "50%       0.390168\n",
            "75%       0.425250\n",
            "max       0.506776\n",
            "Name: 理論的, dtype: float64\n",
            "count    14.000000\n",
            "mean      0.248843\n",
            "std       0.069375\n",
            "min       0.124255\n",
            "25%       0.216620\n",
            "50%       0.245864\n",
            "75%       0.260269\n",
            "max       0.417390\n",
            "Name: 製品に関係ある内容, dtype: float64\n",
            "count    14.000000\n",
            "mean      0.369285\n",
            "std       0.102602\n",
            "min       0.274117\n",
            "25%       0.307088\n",
            "50%       0.349435\n",
            "75%       0.371757\n",
            "max       0.656640\n",
            "Name: レビューは詳細な情報といえる, dtype: float64\n"
          ]
        }
      ]
    },
    {
      "cell_type": "markdown",
      "source": [
        "今回は理論が平均以上で、それ以外のデータは平均よりも1σ以上の値となったものを抽出する<br>\n",
        "※理論的な判断を行う人の評価により重みを置き、口コミの説明が製品に関連した詳細であることを条件とする"
      ],
      "metadata": {
        "id": "8c3az7Gg5pWW"
      }
    },
    {
      "cell_type": "code",
      "source": [
        "# データフィルタリング\n",
        "df_filtered = df[(df['理論的'] >= 0.358969) &\n",
        " (df['製品に関係ある内容'] >= 0.248843 - 0.069375) &\n",
        " (df['レビューは詳細な情報といえる'] >= 0.369285 - 0.102602)]\n",
        "\n",
        "df_filtered"
      ],
      "metadata": {
        "colab": {
          "base_uri": "https://localhost:8080/",
          "height": 456
        },
        "id": "s9i6s8s33eGH",
        "outputId": "adea0f40-e5ac-48f6-acf1-a7ff93d6884e"
      },
      "execution_count": null,
      "outputs": [
        {
          "output_type": "execute_result",
          "data": {
            "text/plain": [
              "         理論的  製品に関係ある内容  レビューは詳細な情報といえる  \\\n",
              "1   0.398327   0.417390        0.656640   \n",
              "4   0.406282   0.225048        0.276738   \n",
              "5   0.389822   0.254871        0.356960   \n",
              "6   0.506776   0.224331        0.343424   \n",
              "7   0.481500   0.239280        0.348317   \n",
              "8   0.455318   0.214049        0.350553   \n",
              "9   0.431572   0.263758        0.395089   \n",
              "11  0.390515   0.193765        0.283271   \n",
              "\n",
              "                                                   本文  \n",
              "1   近年の内容が多く含まれており、分野横断的に最新の結果を知るのに役立つ。一方で、説明は倒錯して...  \n",
              "4   解析的連続値論理(ACVL)に於ける重要な概念である\"非線形述語\"と\"線形述語\"とについて話...  \n",
              "5   ACVLにおける「非線形述語」と「線形述語」の概念について、非常に明快かつ包括的に説明してい...  \n",
              "6   バックプロパゲーションによって、全体述定状態が適応的反応(/適応的行動)選択を導く\"論証\"に...  \n",
              "7   ご指摘の通り、バックプロパゲーションによる訓練課程は、モデルが適応的な反応（行動）選択を導く...  \n",
              "8   ニューラルネットのユニット(/ニューロン)の活性値を どう考えるべきか？／何か確率統計的な客...  \n",
              "9   ニューラルネットのユニットの活性値の解釈について、非常に深い洞察を提示していただきありがとう...  \n",
              "11  解析的連続値論理(ACVL)で \"GELU(Gaussian Error Linear Un...  "
            ],
            "text/html": [
              "\n",
              "  <div id=\"df-e61eb4cb-0117-4c11-b97c-249eef60f6e6\" class=\"colab-df-container\">\n",
              "    <div>\n",
              "<style scoped>\n",
              "    .dataframe tbody tr th:only-of-type {\n",
              "        vertical-align: middle;\n",
              "    }\n",
              "\n",
              "    .dataframe tbody tr th {\n",
              "        vertical-align: top;\n",
              "    }\n",
              "\n",
              "    .dataframe thead th {\n",
              "        text-align: right;\n",
              "    }\n",
              "</style>\n",
              "<table border=\"1\" class=\"dataframe\">\n",
              "  <thead>\n",
              "    <tr style=\"text-align: right;\">\n",
              "      <th></th>\n",
              "      <th>理論的</th>\n",
              "      <th>製品に関係ある内容</th>\n",
              "      <th>レビューは詳細な情報といえる</th>\n",
              "      <th>本文</th>\n",
              "    </tr>\n",
              "  </thead>\n",
              "  <tbody>\n",
              "    <tr>\n",
              "      <th>1</th>\n",
              "      <td>0.398327</td>\n",
              "      <td>0.417390</td>\n",
              "      <td>0.656640</td>\n",
              "      <td>近年の内容が多く含まれており、分野横断的に最新の結果を知るのに役立つ。一方で、説明は倒錯して...</td>\n",
              "    </tr>\n",
              "    <tr>\n",
              "      <th>4</th>\n",
              "      <td>0.406282</td>\n",
              "      <td>0.225048</td>\n",
              "      <td>0.276738</td>\n",
              "      <td>解析的連続値論理(ACVL)に於ける重要な概念である\"非線形述語\"と\"線形述語\"とについて話...</td>\n",
              "    </tr>\n",
              "    <tr>\n",
              "      <th>5</th>\n",
              "      <td>0.389822</td>\n",
              "      <td>0.254871</td>\n",
              "      <td>0.356960</td>\n",
              "      <td>ACVLにおける「非線形述語」と「線形述語」の概念について、非常に明快かつ包括的に説明してい...</td>\n",
              "    </tr>\n",
              "    <tr>\n",
              "      <th>6</th>\n",
              "      <td>0.506776</td>\n",
              "      <td>0.224331</td>\n",
              "      <td>0.343424</td>\n",
              "      <td>バックプロパゲーションによって、全体述定状態が適応的反応(/適応的行動)選択を導く\"論証\"に...</td>\n",
              "    </tr>\n",
              "    <tr>\n",
              "      <th>7</th>\n",
              "      <td>0.481500</td>\n",
              "      <td>0.239280</td>\n",
              "      <td>0.348317</td>\n",
              "      <td>ご指摘の通り、バックプロパゲーションによる訓練課程は、モデルが適応的な反応（行動）選択を導く...</td>\n",
              "    </tr>\n",
              "    <tr>\n",
              "      <th>8</th>\n",
              "      <td>0.455318</td>\n",
              "      <td>0.214049</td>\n",
              "      <td>0.350553</td>\n",
              "      <td>ニューラルネットのユニット(/ニューロン)の活性値を どう考えるべきか？／何か確率統計的な客...</td>\n",
              "    </tr>\n",
              "    <tr>\n",
              "      <th>9</th>\n",
              "      <td>0.431572</td>\n",
              "      <td>0.263758</td>\n",
              "      <td>0.395089</td>\n",
              "      <td>ニューラルネットのユニットの活性値の解釈について、非常に深い洞察を提示していただきありがとう...</td>\n",
              "    </tr>\n",
              "    <tr>\n",
              "      <th>11</th>\n",
              "      <td>0.390515</td>\n",
              "      <td>0.193765</td>\n",
              "      <td>0.283271</td>\n",
              "      <td>解析的連続値論理(ACVL)で \"GELU(Gaussian Error Linear Un...</td>\n",
              "    </tr>\n",
              "  </tbody>\n",
              "</table>\n",
              "</div>\n",
              "    <div class=\"colab-df-buttons\">\n",
              "\n",
              "  <div class=\"colab-df-container\">\n",
              "    <button class=\"colab-df-convert\" onclick=\"convertToInteractive('df-e61eb4cb-0117-4c11-b97c-249eef60f6e6')\"\n",
              "            title=\"Convert this dataframe to an interactive table.\"\n",
              "            style=\"display:none;\">\n",
              "\n",
              "  <svg xmlns=\"http://www.w3.org/2000/svg\" height=\"24px\" viewBox=\"0 -960 960 960\">\n",
              "    <path d=\"M120-120v-720h720v720H120Zm60-500h600v-160H180v160Zm220 220h160v-160H400v160Zm0 220h160v-160H400v160ZM180-400h160v-160H180v160Zm440 0h160v-160H620v160ZM180-180h160v-160H180v160Zm440 0h160v-160H620v160Z\"/>\n",
              "  </svg>\n",
              "    </button>\n",
              "\n",
              "  <style>\n",
              "    .colab-df-container {\n",
              "      display:flex;\n",
              "      gap: 12px;\n",
              "    }\n",
              "\n",
              "    .colab-df-convert {\n",
              "      background-color: #E8F0FE;\n",
              "      border: none;\n",
              "      border-radius: 50%;\n",
              "      cursor: pointer;\n",
              "      display: none;\n",
              "      fill: #1967D2;\n",
              "      height: 32px;\n",
              "      padding: 0 0 0 0;\n",
              "      width: 32px;\n",
              "    }\n",
              "\n",
              "    .colab-df-convert:hover {\n",
              "      background-color: #E2EBFA;\n",
              "      box-shadow: 0px 1px 2px rgba(60, 64, 67, 0.3), 0px 1px 3px 1px rgba(60, 64, 67, 0.15);\n",
              "      fill: #174EA6;\n",
              "    }\n",
              "\n",
              "    .colab-df-buttons div {\n",
              "      margin-bottom: 4px;\n",
              "    }\n",
              "\n",
              "    [theme=dark] .colab-df-convert {\n",
              "      background-color: #3B4455;\n",
              "      fill: #D2E3FC;\n",
              "    }\n",
              "\n",
              "    [theme=dark] .colab-df-convert:hover {\n",
              "      background-color: #434B5C;\n",
              "      box-shadow: 0px 1px 3px 1px rgba(0, 0, 0, 0.15);\n",
              "      filter: drop-shadow(0px 1px 2px rgba(0, 0, 0, 0.3));\n",
              "      fill: #FFFFFF;\n",
              "    }\n",
              "  </style>\n",
              "\n",
              "    <script>\n",
              "      const buttonEl =\n",
              "        document.querySelector('#df-e61eb4cb-0117-4c11-b97c-249eef60f6e6 button.colab-df-convert');\n",
              "      buttonEl.style.display =\n",
              "        google.colab.kernel.accessAllowed ? 'block' : 'none';\n",
              "\n",
              "      async function convertToInteractive(key) {\n",
              "        const element = document.querySelector('#df-e61eb4cb-0117-4c11-b97c-249eef60f6e6');\n",
              "        const dataTable =\n",
              "          await google.colab.kernel.invokeFunction('convertToInteractive',\n",
              "                                                    [key], {});\n",
              "        if (!dataTable) return;\n",
              "\n",
              "        const docLinkHtml = 'Like what you see? Visit the ' +\n",
              "          '<a target=\"_blank\" href=https://colab.research.google.com/notebooks/data_table.ipynb>data table notebook</a>'\n",
              "          + ' to learn more about interactive tables.';\n",
              "        element.innerHTML = '';\n",
              "        dataTable['output_type'] = 'display_data';\n",
              "        await google.colab.output.renderOutput(dataTable, element);\n",
              "        const docLink = document.createElement('div');\n",
              "        docLink.innerHTML = docLinkHtml;\n",
              "        element.appendChild(docLink);\n",
              "      }\n",
              "    </script>\n",
              "  </div>\n",
              "\n",
              "\n",
              "<div id=\"df-80ddfd41-6cd0-45ec-ba56-de39f7557d4e\">\n",
              "  <button class=\"colab-df-quickchart\" onclick=\"quickchart('df-80ddfd41-6cd0-45ec-ba56-de39f7557d4e')\"\n",
              "            title=\"Suggest charts\"\n",
              "            style=\"display:none;\">\n",
              "\n",
              "<svg xmlns=\"http://www.w3.org/2000/svg\" height=\"24px\"viewBox=\"0 0 24 24\"\n",
              "     width=\"24px\">\n",
              "    <g>\n",
              "        <path d=\"M19 3H5c-1.1 0-2 .9-2 2v14c0 1.1.9 2 2 2h14c1.1 0 2-.9 2-2V5c0-1.1-.9-2-2-2zM9 17H7v-7h2v7zm4 0h-2V7h2v10zm4 0h-2v-4h2v4z\"/>\n",
              "    </g>\n",
              "</svg>\n",
              "  </button>\n",
              "\n",
              "<style>\n",
              "  .colab-df-quickchart {\n",
              "      --bg-color: #E8F0FE;\n",
              "      --fill-color: #1967D2;\n",
              "      --hover-bg-color: #E2EBFA;\n",
              "      --hover-fill-color: #174EA6;\n",
              "      --disabled-fill-color: #AAA;\n",
              "      --disabled-bg-color: #DDD;\n",
              "  }\n",
              "\n",
              "  [theme=dark] .colab-df-quickchart {\n",
              "      --bg-color: #3B4455;\n",
              "      --fill-color: #D2E3FC;\n",
              "      --hover-bg-color: #434B5C;\n",
              "      --hover-fill-color: #FFFFFF;\n",
              "      --disabled-bg-color: #3B4455;\n",
              "      --disabled-fill-color: #666;\n",
              "  }\n",
              "\n",
              "  .colab-df-quickchart {\n",
              "    background-color: var(--bg-color);\n",
              "    border: none;\n",
              "    border-radius: 50%;\n",
              "    cursor: pointer;\n",
              "    display: none;\n",
              "    fill: var(--fill-color);\n",
              "    height: 32px;\n",
              "    padding: 0;\n",
              "    width: 32px;\n",
              "  }\n",
              "\n",
              "  .colab-df-quickchart:hover {\n",
              "    background-color: var(--hover-bg-color);\n",
              "    box-shadow: 0 1px 2px rgba(60, 64, 67, 0.3), 0 1px 3px 1px rgba(60, 64, 67, 0.15);\n",
              "    fill: var(--button-hover-fill-color);\n",
              "  }\n",
              "\n",
              "  .colab-df-quickchart-complete:disabled,\n",
              "  .colab-df-quickchart-complete:disabled:hover {\n",
              "    background-color: var(--disabled-bg-color);\n",
              "    fill: var(--disabled-fill-color);\n",
              "    box-shadow: none;\n",
              "  }\n",
              "\n",
              "  .colab-df-spinner {\n",
              "    border: 2px solid var(--fill-color);\n",
              "    border-color: transparent;\n",
              "    border-bottom-color: var(--fill-color);\n",
              "    animation:\n",
              "      spin 1s steps(1) infinite;\n",
              "  }\n",
              "\n",
              "  @keyframes spin {\n",
              "    0% {\n",
              "      border-color: transparent;\n",
              "      border-bottom-color: var(--fill-color);\n",
              "      border-left-color: var(--fill-color);\n",
              "    }\n",
              "    20% {\n",
              "      border-color: transparent;\n",
              "      border-left-color: var(--fill-color);\n",
              "      border-top-color: var(--fill-color);\n",
              "    }\n",
              "    30% {\n",
              "      border-color: transparent;\n",
              "      border-left-color: var(--fill-color);\n",
              "      border-top-color: var(--fill-color);\n",
              "      border-right-color: var(--fill-color);\n",
              "    }\n",
              "    40% {\n",
              "      border-color: transparent;\n",
              "      border-right-color: var(--fill-color);\n",
              "      border-top-color: var(--fill-color);\n",
              "    }\n",
              "    60% {\n",
              "      border-color: transparent;\n",
              "      border-right-color: var(--fill-color);\n",
              "    }\n",
              "    80% {\n",
              "      border-color: transparent;\n",
              "      border-right-color: var(--fill-color);\n",
              "      border-bottom-color: var(--fill-color);\n",
              "    }\n",
              "    90% {\n",
              "      border-color: transparent;\n",
              "      border-bottom-color: var(--fill-color);\n",
              "    }\n",
              "  }\n",
              "</style>\n",
              "\n",
              "  <script>\n",
              "    async function quickchart(key) {\n",
              "      const quickchartButtonEl =\n",
              "        document.querySelector('#' + key + ' button');\n",
              "      quickchartButtonEl.disabled = true;  // To prevent multiple clicks.\n",
              "      quickchartButtonEl.classList.add('colab-df-spinner');\n",
              "      try {\n",
              "        const charts = await google.colab.kernel.invokeFunction(\n",
              "            'suggestCharts', [key], {});\n",
              "      } catch (error) {\n",
              "        console.error('Error during call to suggestCharts:', error);\n",
              "      }\n",
              "      quickchartButtonEl.classList.remove('colab-df-spinner');\n",
              "      quickchartButtonEl.classList.add('colab-df-quickchart-complete');\n",
              "    }\n",
              "    (() => {\n",
              "      let quickchartButtonEl =\n",
              "        document.querySelector('#df-80ddfd41-6cd0-45ec-ba56-de39f7557d4e button');\n",
              "      quickchartButtonEl.style.display =\n",
              "        google.colab.kernel.accessAllowed ? 'block' : 'none';\n",
              "    })();\n",
              "  </script>\n",
              "</div>\n",
              "\n",
              "  <div id=\"id_20c45d79-f1f7-4b04-ba5e-75a90add9c60\">\n",
              "    <style>\n",
              "      .colab-df-generate {\n",
              "        background-color: #E8F0FE;\n",
              "        border: none;\n",
              "        border-radius: 50%;\n",
              "        cursor: pointer;\n",
              "        display: none;\n",
              "        fill: #1967D2;\n",
              "        height: 32px;\n",
              "        padding: 0 0 0 0;\n",
              "        width: 32px;\n",
              "      }\n",
              "\n",
              "      .colab-df-generate:hover {\n",
              "        background-color: #E2EBFA;\n",
              "        box-shadow: 0px 1px 2px rgba(60, 64, 67, 0.3), 0px 1px 3px 1px rgba(60, 64, 67, 0.15);\n",
              "        fill: #174EA6;\n",
              "      }\n",
              "\n",
              "      [theme=dark] .colab-df-generate {\n",
              "        background-color: #3B4455;\n",
              "        fill: #D2E3FC;\n",
              "      }\n",
              "\n",
              "      [theme=dark] .colab-df-generate:hover {\n",
              "        background-color: #434B5C;\n",
              "        box-shadow: 0px 1px 3px 1px rgba(0, 0, 0, 0.15);\n",
              "        filter: drop-shadow(0px 1px 2px rgba(0, 0, 0, 0.3));\n",
              "        fill: #FFFFFF;\n",
              "      }\n",
              "    </style>\n",
              "    <button class=\"colab-df-generate\" onclick=\"generateWithVariable('df_filtered')\"\n",
              "            title=\"Generate code using this dataframe.\"\n",
              "            style=\"display:none;\">\n",
              "\n",
              "  <svg xmlns=\"http://www.w3.org/2000/svg\" height=\"24px\"viewBox=\"0 0 24 24\"\n",
              "       width=\"24px\">\n",
              "    <path d=\"M7,19H8.4L18.45,9,17,7.55,7,17.6ZM5,21V16.75L18.45,3.32a2,2,0,0,1,2.83,0l1.4,1.43a1.91,1.91,0,0,1,.58,1.4,1.91,1.91,0,0,1-.58,1.4L9.25,21ZM18.45,9,17,7.55Zm-12,3A5.31,5.31,0,0,0,4.9,8.1,5.31,5.31,0,0,0,1,6.5,5.31,5.31,0,0,0,4.9,4.9,5.31,5.31,0,0,0,6.5,1,5.31,5.31,0,0,0,8.1,4.9,5.31,5.31,0,0,0,12,6.5,5.46,5.46,0,0,0,6.5,12Z\"/>\n",
              "  </svg>\n",
              "    </button>\n",
              "    <script>\n",
              "      (() => {\n",
              "      const buttonEl =\n",
              "        document.querySelector('#id_20c45d79-f1f7-4b04-ba5e-75a90add9c60 button.colab-df-generate');\n",
              "      buttonEl.style.display =\n",
              "        google.colab.kernel.accessAllowed ? 'block' : 'none';\n",
              "\n",
              "      buttonEl.onclick = () => {\n",
              "        google.colab.notebook.generateWithVariable('df_filtered');\n",
              "      }\n",
              "      })();\n",
              "    </script>\n",
              "  </div>\n",
              "\n",
              "    </div>\n",
              "  </div>\n"
            ],
            "application/vnd.google.colaboratory.intrinsic+json": {
              "type": "dataframe",
              "variable_name": "df_filtered",
              "summary": "{\n  \"name\": \"df_filtered\",\n  \"rows\": 8,\n  \"fields\": [\n    {\n      \"column\": \"\\u7406\\u8ad6\\u7684\",\n      \"properties\": {\n        \"dtype\": \"float32\",\n        \"num_unique_values\": 8,\n        \"samples\": [\n          0.40628182888031006,\n          0.45531803369522095,\n          0.39832738041877747\n        ],\n        \"semantic_type\": \"\",\n        \"description\": \"\"\n      }\n    },\n    {\n      \"column\": \"\\u88fd\\u54c1\\u306b\\u95a2\\u4fc2\\u3042\\u308b\\u5185\\u5bb9\",\n      \"properties\": {\n        \"dtype\": \"float32\",\n        \"num_unique_values\": 8,\n        \"samples\": [\n          0.22504761815071106,\n          0.21404944360256195,\n          0.4173903465270996\n        ],\n        \"semantic_type\": \"\",\n        \"description\": \"\"\n      }\n    },\n    {\n      \"column\": \"\\u30ec\\u30d3\\u30e5\\u30fc\\u306f\\u8a73\\u7d30\\u306a\\u60c5\\u5831\\u3068\\u3044\\u3048\\u308b\",\n      \"properties\": {\n        \"dtype\": \"float32\",\n        \"num_unique_values\": 8,\n        \"samples\": [\n          0.2767377495765686,\n          0.35055258870124817,\n          0.6566402912139893\n        ],\n        \"semantic_type\": \"\",\n        \"description\": \"\"\n      }\n    },\n    {\n      \"column\": \"\\u672c\\u6587\",\n      \"properties\": {\n        \"dtype\": \"string\",\n        \"num_unique_values\": 8,\n        \"samples\": [\n          \"\\u89e3\\u6790\\u7684\\u9023\\u7d9a\\u5024\\u8ad6\\u7406(ACVL)\\u306b\\u65bc\\u3051\\u308b\\u91cd\\u8981\\u306a\\u6982\\u5ff5\\u3067\\u3042\\u308b\\\"\\u975e\\u7dda\\u5f62\\u8ff0\\u8a9e\\\"\\u3068\\\"\\u7dda\\u5f62\\u8ff0\\u8a9e\\\"\\u3068\\u306b\\u3064\\u3044\\u3066\\u8a71\\u305d\\u3046\\u3002\\n\\n\\\"\\u975e\\u7dda\\u5f62\\u8ff0\\u8a9e\\\"\\u306f\\u6577\\u5c45\\u7684\\u306a\\u6d3b\\u6027\\u5316\\u95a2\\u6570\\u3092\\u8ff0\\u5b9a\\u6761\\u4ef6\\u306e\\u4e2d\\u306b\\u6301\\u3061\\u3001\\\"\\u80fd\\u52d5\\u7684\\u5224\\u65ad\\u57fa\\u6e96(/\\u80fd\\u52d5\\u7684\\u72b6\\u6cc1\\u5206\\u985e\\u57fa\\u6e96)\\\"\\u3092\\u5b66\\u7fd2\\u3059\\u308b\\u3002\\n\\\"\\u7dda\\u5f62\\u8ff0\\u8a9e\\\"\\u306f \\\"\\u80fd\\u52d5\\u7684\\u5224\\u65ad\\u57fa\\u6e96(/\\u80fd\\u52d5\\u7684\\u72b6\\u6cc1\\u5206\\u985e\\u57fa\\u6e96)\\\"\\u3092\\u5b66\\u7fd2\\u3057\\u306a\\u3044\\u3002\\n\\n\\\"\\u975e\\u7dda\\u5f62\\u8ff0\\u8a9e\\\"\\u3068\\\"\\u5b66\\u7fd2\\u53ef\\u80fd\\u7dda\\u5f62\\u8ff0\\u8a9e\\\"\\u3068\\u306f\\u3001\\u7570\\u306a\\u308b\\u30bf\\u30a4\\u30d7\\u306e\\\"\\u77e5\\u8b58\\\"\\u3092\\u3001\\u8a13\\u7df4\\u3067\\u7372\\u5f97\\u3057\\u3001\\u63a8\\u8ad6\\u3067\\u4f7f\\u7528\\u3059\\u308b\\u3002\\n\\n\\\"\\u975e\\u7dda\\u5f62\\u8ff0\\u8a9e\\\"\\u304c\\u6301\\u3064\\u77e5\\u8b58\\u3092\\u300c\\u610f\\u5473\\u77e5\\u8b58\\u300d\\u3068\\u547c\\u3076\\u3002\\n\\\"\\u5b66\\u7fd2\\u53ef\\u80fd\\u7dda\\u5f62\\u8ff0\\u8a9e\\\"\\u304c\\u6301\\u3064\\u77e5\\u8b58\\u3092\\u300c\\u5236\\u5fa1\\u77e5\\u8b58\\u300d\\u3068\\u547c\\u3076\\u3002\\n\\n\\\"\\u975e\\u7dda\\u5f62\\u8ff0\\u8a9e\\u5c64(/\\u975e\\u7dda\\u5f62\\u8ff0\\u5b9a\\u5c64)\\\"\\u306f\\\"\\u975e\\u7dda\\u5f62\\u8ff0\\u8a9e\\\"\\u306e\\u96c6\\u56e3\\u3067\\u3042\\u308b\\u3002\\u30c8\\u30e9\\u30f3\\u30b9\\u30d5\\u30a9\\u30fc\\u30deFFN\\u5c64\\u306f\\\"\\u975e\\u7dda\\u5f62\\u8ff0\\u8a9e\\u5c64(/\\u975e\\u7dda\\u5f62\\u8ff0\\u5b9a\\u5c64)\\\"\\u3060\\u3002\\n\\\"\\u7dda\\u5f62\\u8ff0\\u8a9e\\u5c64(/\\u7dda\\u5f62\\u8ff0\\u5b9a\\u5c64)\\\"\\u306f\\\"\\u7dda\\u5f62\\u8ff0\\u8a9e\\\"\\u306e\\u96c6\\u56e3\\u3067\\u3042\\u308b\\u3002\\u30c8\\u30e9\\u30f3\\u30b9\\u30d5\\u30a9\\u30fc\\u30deSA(/\\u81ea\\u5df1\\u6ce8\\u610f\\u8ff0\\u5b9a)\\u5c64,\\uff31(/Query\\u8ff0\\u5b9a)\\u5c64,\\uff2b(/Key\\u8ff0\\u5b9a)\\u5c64,\\uff36(/Value\\u8ff0\\u5b9a)\\u5c64,RC(/\\u30b9\\u30ad\\u30c3\\u30d7\\u63a5\\u7d9a\\u8ff0\\u5b9a)\\u5c64,\\u6b63\\u5247\\u5316\\u5c64,\\u30bd\\u30d5\\u30c8\\u30de\\u30c3\\u30af\\u30b9\\u5c64\\u306f\\\"\\u7dda\\u5f62\\u8ff0\\u8a9e\\u5c64(/\\u7dda\\u5f62\\u8ff0\\u5b9a\\u5c64)\\\"\\u3060\\u3002\\n\\n\\\"\\u975e\\u7dda\\u5f62\\u8ff0\\u8a9e\\\"\\u306f\\u3001\\u5927\\u304d\\u304f\\uff12\\u5206\\u5c90\\u306e\\u5224\\u65ad\\u3092\\u884c\\u3046\\u3002\\u8a00\\u3044\\u63db\\u3048\\u308b\\u3068\\u3001\\\"\\u975e\\u7dda\\u5f62\\u8ff0\\u8a9e\\\"\\u306f\\u3001\\u72b6\\u6cc1\\u3092\\u5927\\u304d\\u304f\\uff12\\u3064\\u306b\\u5206\\u985e\\u3059\\u308b\\u3002\\n\\\"\\u5168\\u4f53\\u8ff0\\u8a9e\\u96c6\\u56e3\\\"\\u306e\\\"\\u90e8\\u5206\\u975e\\u7dda\\u5f62\\u8ff0\\u8a9e\\u96c6\\u56e3\\\"\\u306e\\u898f\\u6a21\\u304c\\u3001\\u305d\\u306e\\u30cb\\u30e5\\u30fc\\u30e9\\u30eb\\u30cd\\u30c3\\u30c8\\u306e\\\"\\u8868\\u73fe\\u529b\\\"\\u3092\\u6c7a\\u3081\\u308b\\u3002\\n\\n\\\"\\u5168\\u4f53\\u8ff0\\u8a9e\\u96c6\\u56e3\\\"\\u306f\\u3001\\u53cd\\u5fdc\\u306b\\u5f71\\u97ff\\u3057\\u306a\\u3044\\u300c\\u7121\\u52b9\\u8ff0\\u8a9e\\u96c6\\u56e3\\u300d\\u3068\\u3001\\u305d\\u308c\\u4ee5\\u5916\\u306e\\u300c\\u6709\\u52b9\\u8ff0\\u8a9e\\u96c6\\u56e3\\u300d\\u3068\\u306b\\u5206\\u304b\\u308c\\u308b\\u3002\\n\\u6b63\\u78ba\\u306b\\u306f\\u3001\\u5224\\u65ad(/\\u72b6\\u6cc1\\u5206\\u985e)\\u6a5f\\u80fd\\u306e\\u540c\\u5024\\u95a2\\u4fc2\\u306b\\u57fa\\u3065\\u304f\\u3001\\\"\\u90e8\\u5206\\u6709\\u52b9\\u975e\\u7dda\\u5f62\\u8ff0\\u8a9e\\u96c6\\u56e3\\\"\\u306e\\u6a5f\\u80fd\\u540c\\u5024\\u985e\\u306e\\u898f\\u6a21\\u304c\\u3001\\u305d\\u306e\\u30cb\\u30e5\\u30fc\\u30e9\\u30eb\\u30cd\\u30c3\\u30c8\\u306e\\\"\\u8868\\u73fe\\u529b(/\\u53cd\\u5fdc\\u5f01\\u5225\\u529b)\\\"\\u3092\\u6c7a\\u3081\\u308b\\u3002\\n\\n\\u30e2\\u30c7\\u30eb\\u304c\\u3001\\u904e\\u9069\\u5fdc\\u3092\\u907f\\u3051\\u3066\\u3001\\u9069\\u5fdc(/\\u6c4e\\u5316)\\u3059\\u308b\\u305f\\u3081\\u306e\\u9375\\u306f\\\"\\u8868\\u73fe\\u529b(/\\u53cd\\u5fdc\\u5f01\\u5225\\u529b)\\\"\\u3092\\u6291\\u5236\\u3059\\u308b\\u3053\\u3068\\u306b\\u3042\\u308b\\u3002\\u3064\\u307e\\u308a\\u3001\\\"\\u90e8\\u5206\\u6709\\u52b9\\u975e\\u7dda\\u5f62\\u8ff0\\u8a9e\\u96c6\\u56e3\\\"\\u306e\\u6a5f\\u80fd\\u540c\\u5024\\u985e\\u306e\\u898f\\u6a21\\u3092\\u5fc5\\u8981\\u6700\\u5c0f\\u9650\\u5ea6\\u306b\\u8fd1\\u3065\\u3051\\u308b\\u3053\\u3068\\u3060\\u3002\\n\\n\\u6709\\u52b9\\u975e\\u7dda\\u5f62\\u8ff0\\u8a9e\\u304c\\u6301\\u3064\\\"\\u610f\\u5473\\\"\\u3068\\u306f\\u3001\\u53cd\\u5fdc(/\\u884c\\u52d5)\\u9078\\u629e\\u306e\\u8ad6\\u7406\\u7684\\u6839\\u62e0\\u3001\\u8a00\\u3044\\u63db\\u3048\\u308b\\u3068\\u3001\\u300c\\u53cd\\u5fdc(/\\u884c\\u52d5)\\u9078\\u629e\\u56e0\\u679c\\u529b\\u300d\\u3060\\u3002\\n\\u30d0\\u30c3\\u30af\\u30d7\\u30ed\\u30d1\\u30b2\\u30fc\\u30b7\\u30e7\\u30f3\\u306b\\u3088\\u308b\\u8a13\\u7df4\\u8ab2\\u7a0b\\u3092\\u901a\\u3057\\u3066\\u3001\\u6709\\u52b9\\u975e\\u7dda\\u5f62\\u8ff0\\u8a9e\\u306f\\u3001\\u9069\\u5fdc\\u7684\\u306a\\u610f\\u5473\\u3092\\u6301\\u3064\\u3088\\u3046\\u306a\\u975e\\u7dda\\u5f62\\u8ff0\\u8a9e\\u3001\\u8a00\\u3044\\u63db\\u3048\\u308b\\u3068\\u3001\\u9069\\u5fdc\\u7684\\u53cd\\u5fdc(/\\u9069\\u5fdc\\u7684\\u884c\\u52d5)\\u9078\\u629e\\u306e\\u8ad6\\u7406\\u7684\\u6839\\u62e0\\u306b\\u6210\\u308b\\u3088\\u3046\\u306a\\u975e\\u7dda\\u5f62\\u8ff0\\u8a9e\\u306b\\u53ce\\u675f\\u3059\\u308b\\u3002\",\n          \"\\u30cb\\u30e5\\u30fc\\u30e9\\u30eb\\u30cd\\u30c3\\u30c8\\u306e\\u30e6\\u30cb\\u30c3\\u30c8(/\\u30cb\\u30e5\\u30fc\\u30ed\\u30f3)\\u306e\\u6d3b\\u6027\\u5024\\u3092 \\u3069\\u3046\\u8003\\u3048\\u308b\\u3079\\u304d\\u304b\\uff1f\\uff0f\\u4f55\\u304b\\u78ba\\u7387\\u7d71\\u8a08\\u7684\\u306a\\u5ba2\\u89b3\\u91cf\\u3068\\u8003\\u3048\\u308b\\u3079\\u304d\\u306a\\u306e\\u304b\\uff1f\\uff0f\\n\\u79c1\\u306f\\u3001\\u4e3b\\u4f53(/\\u30a8\\u30fc\\u30b8\\u30a7\\u30f3\\u30c8)\\u304c\\u74b0\\u5883(/\\u72b6\\u6cc1)\\u306b\\u65bc\\u3044\\u3066\\u9069\\u5fdc\\u7684\\u306b\\u884c\\u52d5\\u3059\\u308b\\u305f\\u3081\\u306b\\u80fd\\u52d5\\u7684\\u306b\\u6210\\u308b\\u614b\\u5ea6\\u304c\\u6301\\u3064\\u4fee\\u98fe\\u91cf\\u3067\\u3042\\u308b\\u3068\\u898b\\u505a\\u3057\\u3066\\u3044\\u308b\\u3002\\u6545\\u306b\\u3001\\u9069\\u5fdc\\u4e0a\\u6709\\u5229\\u306a\\u3088\\u3046\\u306b\\u30d7\\u30e9\\u30b0\\u30de\\u30c6\\u30a3\\u30c3\\u30af\\u306b\\u7b97\\u51fa\\u3055\\u308c\\u308b\\u3002\\n\\u305f\\u3060\\u3057\\u3001\\u614b\\u5ea6\\u306b\\u306f\\\"\\u771f\\u7406\\u5024(/\\u78ba\\u5b9f\\u5ea6/\\u78ba\\u4fe1\\u5ea6)\\\"\\u3092\\u4f34\\u3046\\u614b\\u5ea6\\u3068\\\"\\u6839\\u62e0\\u5024\\\"\\u3092\\u4f34\\u3046\\u614b\\u5ea6\\u3068\\u304c\\u3042\\u308b\\u3068\\u8003\\u3048\\u308b\\u3002\\n\\\"\\u771f\\u7406\\u5024(/\\u78ba\\u5b9f\\u5ea6/\\u78ba\\u4fe1\\u5ea6)\\\"\\u306f[0,+\\u221e)\\u306e\\u4e2d\\u306e\\u5024\\u3067\\u3042\\u308b\\u3002\\\"\\u6839\\u62e0\\u5024\\\"\\u306f(-\\u221e,+\\u221e)\\u306e\\u4e2d\\u306e\\u5024\\u3067\\u3042\\u308b\\u3002\\\"\\u6839\\u62e0\\u5024\\\"\\u306f\\u30d7\\u30e9\\u30b9\\u3067\\u3042\\u308c\\u3070\\\"\\u78ba\\u8a3c\\u5ea6\\\"\\u3067\\u3042\\u308a\\u3001\\u30de\\u30a4\\u30ca\\u30b9\\u3067\\u3042\\u308c\\u3070\\\"\\u53cd\\u8a3c\\u5ea6\\\"\\u3067\\u3042\\u308b\\u3002\\n\\u975e\\u7dda\\u5f62\\u8ff0\\u8a9e\\u306e\\u8ff0\\u5b9a\\u5024\\u306f\\\"\\u771f\\u7406\\u5024(/\\u78ba\\u5b9f\\u5ea6/\\u78ba\\u4fe1\\u5ea6)\\\"\\u3067\\u3042\\u308b\\u3002\\n\\u7dda\\u5f62\\u8ff0\\u8a9e\\u306e\\u8ff0\\u5b9a\\u5024\\u306f \\u901a\\u5e38 \\u30de\\u30a4\\u30ca\\u30b9\\u306b\\u3082\\u306a\\u308b\\u306e\\u3067\\\"\\u6839\\u62e0\\u5024\\\"\\u3067\\u3042\\u308b\\u304c\\u3001\\u30bd\\u30d5\\u30c8\\u30de\\u30c3\\u30af\\u30b9\\u8ff0\\u8a9e\\u306e\\u3088\\u3046\\u306b\\u30de\\u30a4\\u30ca\\u30b9\\u306b\\u306a\\u3089\\u306a\\u3044\\u3082\\u306e\\u306f\\\"\\u771f\\u7406\\u5024(/\\u78ba\\u5b9f\\u5ea6/\\u78ba\\u4fe1\\u5ea6)\\\"\\u3067\\u3042\\u308b\\u3002\\n\\n\\u30cb\\u30e5\\u30fc\\u30e9\\u30eb\\u30cd\\u30c3\\u30c8\\u306e\\u5f37\\u307f\\u306f\\u3001\\u305d\\u308c\\u304c\\u89e3\\u6790\\u7684\\u9023\\u7d9a\\u5024\\u8ad6\\u7406(ACVL)\\u30d9\\u30fc\\u30b9\\u3067\\u3042\\u308b\\u3053\\u3068\\u3060\\u3002\\n\\u30cb\\u30e5\\u30fc\\u30e9\\u30eb\\u30cd\\u30c3\\u30c8\\u306f\\u3001\\u89e3\\u6790\\u7684\\u9023\\u7d9a\\u5024\\u8ad6\\u7406(ACVL)\\u306b\\u5f93\\u3063\\u3066 \\u8a13\\u7df4\\u904e\\u7a0b\\u3067 \\u9069\\u5fdc\\u7684\\u306a\\\"\\u8ad6\\u7406\\u4f53\\u7cfb(/\\u8ff0\\u8a9e\\u8ad6\\u8a3c\\u7d44\\u7e54/\\u8ff0\\u8a9e\\u96c6\\u56e3)\\\"\\u3092\\u7372\\u5f97\\u3059\\u308b\\u3002\\n\\u30cb\\u30e5\\u30fc\\u30e9\\u30eb\\u30cd\\u30c3\\u30c8\\u306f\\u3001\\u89e3\\u6790\\u7684\\u9023\\u7d9a\\u5024\\u8ad6\\u7406(ACVL)\\u306b\\u5f93\\u3063\\u3066 \\u63a8\\u8ad6\\u904e\\u7a0b\\u3067 \\u9069\\u5fdc\\u7684\\u306a\\\"\\u8ad6\\u7406\\u4f53\\u7cfb(/\\u8ff0\\u8a9e\\u8ad6\\u8a3c\\u7d44\\u7e54/\\u8ff0\\u8a9e\\u96c6\\u56e3)\\\"\\u306b\\u57fa\\u3065\\u3044\\u3066 \\u63a8\\u8ad6(/\\u8ad6\\u8a3c/\\u5224\\u65ad/\\u72b6\\u6cc1\\u5206\\u985e)\\u3059\\u308b\\u3002\",\n          \"\\u8fd1\\u5e74\\u306e\\u5185\\u5bb9\\u304c\\u591a\\u304f\\u542b\\u307e\\u308c\\u3066\\u304a\\u308a\\u3001\\u5206\\u91ce\\u6a2a\\u65ad\\u7684\\u306b\\u6700\\u65b0\\u306e\\u7d50\\u679c\\u3092\\u77e5\\u308b\\u306e\\u306b\\u5f79\\u7acb\\u3064\\u3002\\u4e00\\u65b9\\u3067\\u3001\\u8aac\\u660e\\u306f\\u5012\\u932f\\u3057\\u3066\\u3044\\u305f\\u308a\\u4e0d\\u8db3\\u3057\\u3066\\u3044\\u308b\\u3068\\u611f\\u3058\\u308b\\u90e8\\u5206\\u3082\\u591a\\u3044\\u305f\\u3081\\u3001\\u5206\\u304b\\u3089\\u306a\\u3044\\u5834\\u5408\\u306b\\u306f\\u539f\\u8457\\u8ad6\\u6587\\u306b\\u5f53\\u305f\\u308b\\u5fc5\\u8981\\u304c\\u3042\\u308b\\u3002\"\n        ],\n        \"semantic_type\": \"\",\n        \"description\": \"\"\n      }\n    }\n  ]\n}"
            }
          },
          "metadata": {},
          "execution_count": 69
        }
      ]
    },
    {
      "cell_type": "markdown",
      "source": [
        "スクリーニングしたデータが良いレビューだったか、悪いレビューだったかの分析を行う。<br>\n",
        "本来は、製品レビューの分析にファインチューニングしたモデルで行うと良い結果が得られるが、hugging faceで日本語対応で使えそうなジャストミートの事前学習モデルがなかったため、今回はchristian-phuさんが公開されている以下モデルを使用する<br>\n",
        "https://huggingface.co/christian-phu/bert-finetuned-japanese-sentiment\n",
        "\n",
        "https://zenn.dev/mizuiro__sakura/articles/b31bf4ac40ff0e"
      ],
      "metadata": {
        "id": "ok_BxauL7jKO"
      }
    },
    {
      "cell_type": "code",
      "source": [
        "from transformers import pipeline\n",
        "from transformers import AutoModelForSequenceClassification, AutoTokenizer\n",
        "import torch\n",
        "import torch.nn as nn\n",
        "\n",
        "# 事前学習済みの日本語感情分析モデルとそのトークナイザをロード\n",
        "model = AutoModelForSequenceClassification.from_pretrained('christian-phu/bert-finetuned-japanese-sentiment')\n",
        "tokenizer = AutoTokenizer.from_pretrained('christian-phu/bert-finetuned-japanese-sentiment', model_max_length=512, max_length=512, padding=\"max_length\", truncation=True)\n",
        "\n",
        "# 感情分析のためのパイプラインを設定\n",
        "nlp = pipeline('sentiment-analysis', model=model, tokenizer=tokenizer, truncation=True, max_lentgh=512)\n"
      ],
      "metadata": {
        "id": "yoe6M9Zh59Iv"
      },
      "execution_count": null,
      "outputs": []
    },
    {
      "cell_type": "code",
      "source": [
        "# 試しうち\n",
        "print(nlp(\"この本は非常に役に立つ\"))\n",
        "print(nlp(\"この本は全然理解できない\"))"
      ],
      "metadata": {
        "colab": {
          "base_uri": "https://localhost:8080/"
        },
        "id": "8nadD5rQASKe",
        "outputId": "6c5cd4cf-4983-4d33-ac01-c2eaa8773933"
      },
      "execution_count": null,
      "outputs": [
        {
          "output_type": "stream",
          "name": "stdout",
          "text": [
            "[{'label': 'positive', 'score': 0.999079704284668}]\n",
            "[{'label': 'negative', 'score': 0.9668535590171814}]\n"
          ]
        }
      ]
    },
    {
      "cell_type": "markdown",
      "source": [
        "感情分析器を用いて、抽出したコメントのネガティブの度合いのスコアを抽出する"
      ],
      "metadata": {
        "id": "itDFPsJUGtJt"
      }
    },
    {
      "cell_type": "code",
      "source": [
        "scores = []\n",
        "\n",
        "# 感情分析\n",
        "for index, row in df_filtered.iterrows():\n",
        "  sentence = row['本文']\n",
        "  score = nlp(sentence)\n",
        "  scores.append(score)\n",
        "\n",
        "# スコアリング\n",
        "respond_label = {'negative':-1, 'neutral':0, 'positive':1}\n",
        "score_total = 0.0\n",
        "for score in scores:\n",
        "  score_total += score[0]['score'] * respond_label[score[0]['label']]\n",
        "score_average = score_total / len(scores)\n",
        "\n",
        "# スコア表示\n",
        "# 複数データによる相対評価をおこなうことで初めて意味が出てくる\n",
        "print(f\"スコア平均：{score_average}\")\n",
        "print(scores)"
      ],
      "metadata": {
        "colab": {
          "base_uri": "https://localhost:8080/"
        },
        "id": "pyIzFhZKBr-9",
        "outputId": "89497363-6ecb-4d3c-c63b-f94766e30fc9"
      },
      "execution_count": null,
      "outputs": [
        {
          "output_type": "stream",
          "name": "stderr",
          "text": [
            "Keyword arguments {'max_lentgh': 512} not recognized.\n",
            "Keyword arguments {'max_lentgh': 512} not recognized.\n",
            "Keyword arguments {'max_lentgh': 512} not recognized.\n",
            "Keyword arguments {'max_lentgh': 512} not recognized.\n",
            "Keyword arguments {'max_lentgh': 512} not recognized.\n",
            "Keyword arguments {'max_lentgh': 512} not recognized.\n",
            "Keyword arguments {'max_lentgh': 512} not recognized.\n",
            "Keyword arguments {'max_lentgh': 512} not recognized.\n"
          ]
        },
        {
          "output_type": "stream",
          "name": "stdout",
          "text": [
            "スコア平均：0.2994856908917427\n",
            "[[{'label': 'neutral', 'score': 0.9962007403373718}], [{'label': 'neutral', 'score': 0.9677215218544006}], [{'label': 'neutral', 'score': 0.8025874495506287}], [{'label': 'neutral', 'score': 0.9242435097694397}], [{'label': 'positive', 'score': 0.6117021441459656}], [{'label': 'positive', 'score': 0.8248586654663086}], [{'label': 'neutral', 'score': 0.6753776669502258}], [{'label': 'positive', 'score': 0.9593247175216675}]]\n"
          ]
        }
      ]
    },
    {
      "cell_type": "markdown",
      "source": [
        "# 結論\n",
        "1.本トライアルにおいて、口コミレビューを基に情報の有意性をベースとしたスクリーニングを行い、口コミのポジティブ/ネガティブを定量的に評価する手法についてトライアルを行った。<br>\n",
        "2.スクリーニングの際には評価軸を変更可能なように検索を用いる手法を、口コミの評価については感情分析を用いることで定量的な評価を行う<br>\n",
        "\n",
        "# 今後に向けて\n",
        "1.検索モデルには対照学習を、感情分析モデルは製品評価の分析データによるファインチューニングを行うことでさらなる精度改善が見込まれる\n",
        "2.検索時に、今回は手動で検索用の文言を生成したが、今回のケースに合うような生成AIを合わせることで、より検索精度向上を見込むことが出来る"
      ],
      "metadata": {
        "id": "ELvVm5GSQemq"
      }
    },
    {
      "cell_type": "code",
      "source": [],
      "metadata": {
        "id": "hfe-aEl-Om7U"
      },
      "execution_count": null,
      "outputs": []
    }
  ]
}